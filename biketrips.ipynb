{
 "cells": [
  {
   "cell_type": "code",
   "execution_count": 4,
   "metadata": {},
   "outputs": [],
   "source": [
    "import pandas as pd\n",
    "import numpy as np\n",
    "import matplotlib.pyplot as plt\n",
    "import os\n",
    "import glob\n",
    "import datetime\n",
    "from datetime import timedelta\n",
    "import seaborn as sns"
   ]
  },
  {
   "cell_type": "markdown",
   "metadata": {},
   "source": [
    "#### Dane ze strony https://www.citibikenyc.com/system-data pochodzące z systemu wypożyczania rowerów dla Nowego Jorku"
   ]
  },
  {
   "cell_type": "code",
   "execution_count": 5,
   "metadata": {},
   "outputs": [
    {
     "data": {
      "text/plain": [
       "['201906-citibike-tripdata.csv',\n",
       " '201907-citibike-tripdata.csv',\n",
       " '201908-citibike-tripdata.csv',\n",
       " '201909-citibike-tripdata.csv',\n",
       " '201910-citibike-tripdata.csv',\n",
       " '201911-citibike-tripdata.csv',\n",
       " '201912-citibike-tripdata.csv',\n",
       " '202001-citibike-tripdata.csv',\n",
       " '202002-citibike-tripdata.csv',\n",
       " '202003-citibike-tripdata.csv',\n",
       " '202004-citibike-tripdata.csv',\n",
       " '202005-citibike-tripdata.csv']"
      ]
     },
     "execution_count": 5,
     "metadata": {},
     "output_type": "execute_result"
    }
   ],
   "source": [
    "filenames = glob.glob('*.csv')\n",
    "filenames[-12:]"
   ]
  },
  {
   "cell_type": "markdown",
   "metadata": {},
   "source": [
    "Ładowanie danych z ostatnich 2 lat, jeden miesiąc (june2k18) posłuży mi do szybkiego sprawdzania wyników funkcji / tego jak wyglądają tworzone wykresy przed zaaplikowaniem dla dużych danych"
   ]
  },
  {
   "cell_type": "code",
   "execution_count": 6,
   "metadata": {},
   "outputs": [],
   "source": [
    "all_data = [pd.read_csv(f) for f in filenames[-24:]]"
   ]
  },
  {
   "cell_type": "code",
   "execution_count": 10,
   "metadata": {},
   "outputs": [
    {
     "data": {
      "text/html": [
       "<div>\n",
       "<style scoped>\n",
       "    .dataframe tbody tr th:only-of-type {\n",
       "        vertical-align: middle;\n",
       "    }\n",
       "\n",
       "    .dataframe tbody tr th {\n",
       "        vertical-align: top;\n",
       "    }\n",
       "\n",
       "    .dataframe thead th {\n",
       "        text-align: right;\n",
       "    }\n",
       "</style>\n",
       "<table border=\"1\" class=\"dataframe\">\n",
       "  <thead>\n",
       "    <tr style=\"text-align: right;\">\n",
       "      <th></th>\n",
       "      <th>tripduration</th>\n",
       "      <th>starttime</th>\n",
       "      <th>stoptime</th>\n",
       "      <th>start station id</th>\n",
       "      <th>start station name</th>\n",
       "      <th>start station latitude</th>\n",
       "      <th>start station longitude</th>\n",
       "      <th>end station id</th>\n",
       "      <th>end station name</th>\n",
       "      <th>end station latitude</th>\n",
       "      <th>end station longitude</th>\n",
       "      <th>bikeid</th>\n",
       "      <th>usertype</th>\n",
       "      <th>birth year</th>\n",
       "      <th>gender</th>\n",
       "    </tr>\n",
       "  </thead>\n",
       "  <tbody>\n",
       "    <tr>\n",
       "      <th>0</th>\n",
       "      <td>569</td>\n",
       "      <td>2018-06-01 01:57:20.5140</td>\n",
       "      <td>2018-06-01 02:06:50.0880</td>\n",
       "      <td>72</td>\n",
       "      <td>W 52 St &amp; 11 Ave</td>\n",
       "      <td>40.767272</td>\n",
       "      <td>-73.993929</td>\n",
       "      <td>173</td>\n",
       "      <td>Broadway &amp; W 49 St</td>\n",
       "      <td>40.760683</td>\n",
       "      <td>-73.984527</td>\n",
       "      <td>21481</td>\n",
       "      <td>Subscriber</td>\n",
       "      <td>1999</td>\n",
       "      <td>1</td>\n",
       "    </tr>\n",
       "    <tr>\n",
       "      <th>1</th>\n",
       "      <td>480</td>\n",
       "      <td>2018-06-01 02:02:42.3980</td>\n",
       "      <td>2018-06-01 02:10:43.3540</td>\n",
       "      <td>72</td>\n",
       "      <td>W 52 St &amp; 11 Ave</td>\n",
       "      <td>40.767272</td>\n",
       "      <td>-73.993929</td>\n",
       "      <td>477</td>\n",
       "      <td>W 41 St &amp; 8 Ave</td>\n",
       "      <td>40.756405</td>\n",
       "      <td>-73.990026</td>\n",
       "      <td>19123</td>\n",
       "      <td>Subscriber</td>\n",
       "      <td>1988</td>\n",
       "      <td>1</td>\n",
       "    </tr>\n",
       "    <tr>\n",
       "      <th>2</th>\n",
       "      <td>692</td>\n",
       "      <td>2018-06-01 02:04:23.6240</td>\n",
       "      <td>2018-06-01 02:15:55.7470</td>\n",
       "      <td>72</td>\n",
       "      <td>W 52 St &amp; 11 Ave</td>\n",
       "      <td>40.767272</td>\n",
       "      <td>-73.993929</td>\n",
       "      <td>457</td>\n",
       "      <td>Broadway &amp; W 58 St</td>\n",
       "      <td>40.766953</td>\n",
       "      <td>-73.981693</td>\n",
       "      <td>26983</td>\n",
       "      <td>Subscriber</td>\n",
       "      <td>1986</td>\n",
       "      <td>1</td>\n",
       "    </tr>\n",
       "    <tr>\n",
       "      <th>3</th>\n",
       "      <td>664</td>\n",
       "      <td>2018-06-01 03:00:55.4610</td>\n",
       "      <td>2018-06-01 03:11:59.9060</td>\n",
       "      <td>72</td>\n",
       "      <td>W 52 St &amp; 11 Ave</td>\n",
       "      <td>40.767272</td>\n",
       "      <td>-73.993929</td>\n",
       "      <td>379</td>\n",
       "      <td>W 31 St &amp; 7 Ave</td>\n",
       "      <td>40.749156</td>\n",
       "      <td>-73.991600</td>\n",
       "      <td>26742</td>\n",
       "      <td>Subscriber</td>\n",
       "      <td>1973</td>\n",
       "      <td>1</td>\n",
       "    </tr>\n",
       "    <tr>\n",
       "      <th>4</th>\n",
       "      <td>818</td>\n",
       "      <td>2018-06-01 06:04:54.4270</td>\n",
       "      <td>2018-06-01 06:18:32.6170</td>\n",
       "      <td>72</td>\n",
       "      <td>W 52 St &amp; 11 Ave</td>\n",
       "      <td>40.767272</td>\n",
       "      <td>-73.993929</td>\n",
       "      <td>459</td>\n",
       "      <td>W 20 St &amp; 11 Ave</td>\n",
       "      <td>40.746745</td>\n",
       "      <td>-74.007756</td>\n",
       "      <td>26386</td>\n",
       "      <td>Subscriber</td>\n",
       "      <td>1984</td>\n",
       "      <td>1</td>\n",
       "    </tr>\n",
       "  </tbody>\n",
       "</table>\n",
       "</div>"
      ],
      "text/plain": [
       "   tripduration                 starttime                  stoptime  \\\n",
       "0           569  2018-06-01 01:57:20.5140  2018-06-01 02:06:50.0880   \n",
       "1           480  2018-06-01 02:02:42.3980  2018-06-01 02:10:43.3540   \n",
       "2           692  2018-06-01 02:04:23.6240  2018-06-01 02:15:55.7470   \n",
       "3           664  2018-06-01 03:00:55.4610  2018-06-01 03:11:59.9060   \n",
       "4           818  2018-06-01 06:04:54.4270  2018-06-01 06:18:32.6170   \n",
       "\n",
       "   start station id start station name  start station latitude  \\\n",
       "0                72   W 52 St & 11 Ave               40.767272   \n",
       "1                72   W 52 St & 11 Ave               40.767272   \n",
       "2                72   W 52 St & 11 Ave               40.767272   \n",
       "3                72   W 52 St & 11 Ave               40.767272   \n",
       "4                72   W 52 St & 11 Ave               40.767272   \n",
       "\n",
       "   start station longitude  end station id    end station name  \\\n",
       "0               -73.993929             173  Broadway & W 49 St   \n",
       "1               -73.993929             477     W 41 St & 8 Ave   \n",
       "2               -73.993929             457  Broadway & W 58 St   \n",
       "3               -73.993929             379     W 31 St & 7 Ave   \n",
       "4               -73.993929             459    W 20 St & 11 Ave   \n",
       "\n",
       "   end station latitude  end station longitude  bikeid    usertype  \\\n",
       "0             40.760683             -73.984527   21481  Subscriber   \n",
       "1             40.756405             -73.990026   19123  Subscriber   \n",
       "2             40.766953             -73.981693   26983  Subscriber   \n",
       "3             40.749156             -73.991600   26742  Subscriber   \n",
       "4             40.746745             -74.007756   26386  Subscriber   \n",
       "\n",
       "   birth year  gender  \n",
       "0        1999       1  \n",
       "1        1988       1  \n",
       "2        1986       1  \n",
       "3        1973       1  \n",
       "4        1984       1  "
      ]
     },
     "execution_count": 10,
     "metadata": {},
     "output_type": "execute_result"
    }
   ],
   "source": [
    "june2k18 = all_data[0]\n",
    "june2k18.head(5)"
   ]
  },
  {
   "cell_type": "markdown",
   "metadata": {},
   "source": [
    "## Wiek i płeć"
   ]
  },
  {
   "cell_type": "code",
   "execution_count": 11,
   "metadata": {},
   "outputs": [
    {
     "data": {
      "text/html": [
       "<div>\n",
       "<style scoped>\n",
       "    .dataframe tbody tr th:only-of-type {\n",
       "        vertical-align: middle;\n",
       "    }\n",
       "\n",
       "    .dataframe tbody tr th {\n",
       "        vertical-align: top;\n",
       "    }\n",
       "\n",
       "    .dataframe thead th {\n",
       "        text-align: right;\n",
       "    }\n",
       "</style>\n",
       "<table border=\"1\" class=\"dataframe\">\n",
       "  <thead>\n",
       "    <tr style=\"text-align: right;\">\n",
       "      <th></th>\n",
       "      <th>birth year</th>\n",
       "      <th>gender</th>\n",
       "    </tr>\n",
       "  </thead>\n",
       "  <tbody>\n",
       "    <tr>\n",
       "      <th>0</th>\n",
       "      <td>1999</td>\n",
       "      <td>1</td>\n",
       "    </tr>\n",
       "    <tr>\n",
       "      <th>1</th>\n",
       "      <td>1988</td>\n",
       "      <td>1</td>\n",
       "    </tr>\n",
       "    <tr>\n",
       "      <th>2</th>\n",
       "      <td>1986</td>\n",
       "      <td>1</td>\n",
       "    </tr>\n",
       "    <tr>\n",
       "      <th>3</th>\n",
       "      <td>1973</td>\n",
       "      <td>1</td>\n",
       "    </tr>\n",
       "    <tr>\n",
       "      <th>4</th>\n",
       "      <td>1984</td>\n",
       "      <td>1</td>\n",
       "    </tr>\n",
       "    <tr>\n",
       "      <th>...</th>\n",
       "      <td>...</td>\n",
       "      <td>...</td>\n",
       "    </tr>\n",
       "    <tr>\n",
       "      <th>38055533</th>\n",
       "      <td>1972</td>\n",
       "      <td>2</td>\n",
       "    </tr>\n",
       "    <tr>\n",
       "      <th>38055534</th>\n",
       "      <td>1994</td>\n",
       "      <td>2</td>\n",
       "    </tr>\n",
       "    <tr>\n",
       "      <th>38055535</th>\n",
       "      <td>1998</td>\n",
       "      <td>1</td>\n",
       "    </tr>\n",
       "    <tr>\n",
       "      <th>38055536</th>\n",
       "      <td>1969</td>\n",
       "      <td>0</td>\n",
       "    </tr>\n",
       "    <tr>\n",
       "      <th>38055537</th>\n",
       "      <td>2000</td>\n",
       "      <td>1</td>\n",
       "    </tr>\n",
       "  </tbody>\n",
       "</table>\n",
       "<p>38055538 rows × 2 columns</p>\n",
       "</div>"
      ],
      "text/plain": [
       "          birth year  gender\n",
       "0               1999       1\n",
       "1               1988       1\n",
       "2               1986       1\n",
       "3               1973       1\n",
       "4               1984       1\n",
       "...              ...     ...\n",
       "38055533        1972       2\n",
       "38055534        1994       2\n",
       "38055535        1998       1\n",
       "38055536        1969       0\n",
       "38055537        2000       1\n",
       "\n",
       "[38055538 rows x 2 columns]"
      ]
     },
     "execution_count": 11,
     "metadata": {},
     "output_type": "execute_result"
    }
   ],
   "source": [
    "age_info = pd.concat([df[[\"birth year\", \"gender\"]] for df in all_data], ignore_index=True)\n",
    "age_info"
   ]
  },
  {
   "cell_type": "code",
   "execution_count": 256,
   "metadata": {},
   "outputs": [],
   "source": [
    "#june2k18.starttime = june2k19.starttime.astype(dtype='datetime64')\n",
    "#june2k18.stoptime = june2k19.stoptime.astype(dtype='datetime64')\n",
    "#june2k18[\"dayofweek\"] = june2k19.starttime.apply(lambda a: a.day_name())"
   ]
  },
  {
   "cell_type": "code",
   "execution_count": 12,
   "metadata": {},
   "outputs": [],
   "source": [
    "age_info[\"age\"] = datetime.datetime.now().year - age_info[\"birth year\"]"
   ]
  },
  {
   "cell_type": "code",
   "execution_count": 13,
   "metadata": {},
   "outputs": [
    {
     "data": {
      "image/png": "[encoded data removed]",
      "text/plain": [
       "<Figure size 720x432 with 1 Axes>"
      ]
     },
     "metadata": {
      "needs_background": "light"
     },
     "output_type": "display_data"
    }
   ],
   "source": [
    "hist = age_info.hist(column = \"age\", bins=[i for i in range(0,101,5)],edgecolor='black',linewidth=2, figsize=(10,6))\n",
    "plt.ylabel(\"Number of trips\")\n",
    "plt.show()"
   ]
  },
  {
   "cell_type": "markdown",
   "metadata": {},
   "source": [
    "Dla wieku = 51 widać nienaturalnie wysoką liczbę przejazdów. Prawdopodobnie w aplikacji rok 1969 jest wartością domyślną dla roku urodzenia i część osób jej nie zmienia bo nie chce podawać swoich prawdziwych danych."
   ]
  },
  {
   "cell_type": "code",
   "execution_count": 14,
   "metadata": {
    "scrolled": true
   },
   "outputs": [
    {
     "data": {
      "image/png": "[encoded data removed]",
      "text/plain": [
       "<Figure size 720x360 with 1 Axes>"
      ]
     },
     "metadata": {
      "needs_background": "light"
     },
     "output_type": "display_data"
    }
   ],
   "source": [
    "age_info.hist(column = \"age\", bins=[i for i in range(0,101,1)],edgecolor='black',linewidth=2, figsize=(10,5))\n",
    "plt.ylabel(\"Number of trips\")\n",
    "plt.show()"
   ]
  },
  {
   "cell_type": "code",
   "execution_count": 15,
   "metadata": {},
   "outputs": [
    {
     "name": "stdout",
     "output_type": "stream",
     "text": [
      "51     3370538\n",
      "30     1577591\n",
      "31     1566085\n",
      "32     1512322\n",
      "29     1499592\n",
      "        ...   \n",
      "122          3\n",
      "115          2\n",
      "157          2\n",
      "117          1\n",
      "140          1\n",
      "Name: age, Length: 121, dtype: int64\n"
     ]
    }
   ],
   "source": [
    "print(age_info[\"age\"].value_counts())"
   ]
  },
  {
   "cell_type": "markdown",
   "metadata": {},
   "source": [
    "Odrzucamy tyle rekordów dla wieku = 51, aby przejazdów było tyle samo co dla osób w wieku 50 lat."
   ]
  },
  {
   "cell_type": "code",
   "execution_count": 16,
   "metadata": {},
   "outputs": [
    {
     "data": {
      "image/png": "[encoded data removed]",
      "text/plain": [
       "<Figure size 720x360 with 1 Axes>"
      ]
     },
     "metadata": {
      "needs_background": "light"
     },
     "output_type": "display_data"
    }
   ],
   "source": [
    "drop_number = age_info[\"age\"].value_counts().loc[51] -age_info[\"age\"].value_counts().loc[50]\n",
    "drop_indices = np.random.choice(age_info[(age_info.age == 51)].index, drop_number, replace=False)\n",
    "age_info_corrected = age_info.drop(drop_indices)\n",
    "age_info_corrected.hist(column = \"age\", bins=[i for i in range(0,101,1)],edgecolor='black',linewidth=2, figsize=(10,5))\n",
    "plt.ylabel(\"Number of trips\")\n",
    "plt.show()"
   ]
  },
  {
   "cell_type": "code",
   "execution_count": 17,
   "metadata": {},
   "outputs": [
    {
     "name": "stdout",
     "output_type": "stream",
     "text": [
      "0\n",
      "19520\n"
     ]
    }
   ],
   "source": [
    "print(age_info_corrected[age_info_corrected[\"age\"] <10].shape[0])\n",
    "print(age_info_corrected[age_info_corrected[\"age\"] >100].shape[0])"
   ]
  },
  {
   "cell_type": "code",
   "execution_count": 18,
   "metadata": {},
   "outputs": [],
   "source": [
    "age_info_corrected[\"age_group\"] = pd.cut(age_info_corrected.age, [i for i in range(10,101,15)],\n",
    "                               right=False, labels=[\"{} - {}\".format(i, i+14) for i in range(10,100,15)])"
   ]
  },
  {
   "cell_type": "code",
   "execution_count": 19,
   "metadata": {},
   "outputs": [
    {
     "data": {
      "text/plain": [
       "male       25406616\n",
       "female      9111355\n",
       "unknown      815969\n",
       "Name: gender, dtype: int64"
      ]
     },
     "execution_count": 19,
     "metadata": {},
     "output_type": "execute_result"
    }
   ],
   "source": [
    "age_info_corrected[\"gender\"] = age_info_corrected[\"gender\"].astype(dtype='category')\n",
    "age_info_corrected[\"gender\"] = age_info_corrected[\"gender\"].cat.rename_categories(['unknown', 'male', 'female'])\n",
    "age_info_corrected[\"gender\"].value_counts()"
   ]
  },
  {
   "cell_type": "code",
   "execution_count": 20,
   "metadata": {
    "scrolled": true
   },
   "outputs": [
    {
     "data": {
      "text/html": [
       "<div>\n",
       "<style scoped>\n",
       "    .dataframe tbody tr th:only-of-type {\n",
       "        vertical-align: middle;\n",
       "    }\n",
       "\n",
       "    .dataframe tbody tr th {\n",
       "        vertical-align: top;\n",
       "    }\n",
       "\n",
       "    .dataframe thead th {\n",
       "        text-align: right;\n",
       "    }\n",
       "</style>\n",
       "<table border=\"1\" class=\"dataframe\">\n",
       "  <thead>\n",
       "    <tr style=\"text-align: right;\">\n",
       "      <th>gender</th>\n",
       "      <th>unknown</th>\n",
       "      <th>male</th>\n",
       "      <th>female</th>\n",
       "    </tr>\n",
       "    <tr>\n",
       "      <th>age_group</th>\n",
       "      <th></th>\n",
       "      <th></th>\n",
       "      <th></th>\n",
       "    </tr>\n",
       "  </thead>\n",
       "  <tbody>\n",
       "    <tr>\n",
       "      <th>10 - 24</th>\n",
       "      <td>17397</td>\n",
       "      <td>1381123</td>\n",
       "      <td>552297</td>\n",
       "    </tr>\n",
       "    <tr>\n",
       "      <th>25 - 39</th>\n",
       "      <td>164257</td>\n",
       "      <td>13551320</td>\n",
       "      <td>5286782</td>\n",
       "    </tr>\n",
       "    <tr>\n",
       "      <th>40 - 54</th>\n",
       "      <td>609600</td>\n",
       "      <td>6876018</td>\n",
       "      <td>2106312</td>\n",
       "    </tr>\n",
       "    <tr>\n",
       "      <th>55 - 69</th>\n",
       "      <td>18425</td>\n",
       "      <td>3294237</td>\n",
       "      <td>1067868</td>\n",
       "    </tr>\n",
       "    <tr>\n",
       "      <th>70 - 84</th>\n",
       "      <td>2614</td>\n",
       "      <td>284853</td>\n",
       "      <td>88759</td>\n",
       "    </tr>\n",
       "    <tr>\n",
       "      <th>85 - 99</th>\n",
       "      <td>323</td>\n",
       "      <td>6133</td>\n",
       "      <td>6063</td>\n",
       "    </tr>\n",
       "  </tbody>\n",
       "</table>\n",
       "</div>"
      ],
      "text/plain": [
       "gender     unknown      male   female\n",
       "age_group                            \n",
       "10 - 24      17397   1381123   552297\n",
       "25 - 39     164257  13551320  5286782\n",
       "40 - 54     609600   6876018  2106312\n",
       "55 - 69      18425   3294237  1067868\n",
       "70 - 84       2614    284853    88759\n",
       "85 - 99        323      6133     6063"
      ]
     },
     "execution_count": 20,
     "metadata": {},
     "output_type": "execute_result"
    }
   ],
   "source": [
    "x = age_info_corrected.groupby([\"age_group\", \"gender\"]).size().unstack()\n",
    "x"
   ]
  },
  {
   "cell_type": "code",
   "execution_count": 21,
   "metadata": {},
   "outputs": [
    {
     "data": {
      "text/plain": [
       "Text(0, 0.5, 'Number of trips')"
      ]
     },
     "execution_count": 21,
     "metadata": {},
     "output_type": "execute_result"
    },
    {
     "data": {
      "image/png": "[encoded data removed]",
      "text/plain": [
       "<Figure size 1152x432 with 1 Axes>"
      ]
     },
     "metadata": {
      "needs_background": "light"
     },
     "output_type": "display_data"
    }
   ],
   "source": [
    "x.plot(kind=\"bar\", color=[\"orange\", \"blue\", \"green\"], figsize=(16,6), title='Częstość przejazdów wśród grup wiekowych i płci')\n",
    "plt.xlabel(\"Age groups\")\n",
    "plt.ylabel(\"Number of trips\")"
   ]
  },
  {
   "cell_type": "code",
   "execution_count": 23,
   "metadata": {},
   "outputs": [],
   "source": [
    "age_info_corrected.groupby([\"age_group\", \"gender\"]).size().unstack().to_csv(\"processed_data/number_of_trips_in_age_groups.csv\")"
   ]
  },
  {
   "cell_type": "markdown",
   "metadata": {},
   "source": [
    "## Rowery"
   ]
  },
  {
   "cell_type": "markdown",
   "metadata": {},
   "source": [
    "Sprawdzimy czy rowery są w podobnym stopniu eksploatowane, czy może niewielka liczba sztuk krąży między najbardziej uczęszczanymi stacjami. Jeżeli tak się dzieje to być może warto je obserwować czy nie wymagają serwisu."
   ]
  },
  {
   "cell_type": "code",
   "execution_count": 29,
   "metadata": {},
   "outputs": [
    {
     "data": {
      "text/plain": [
       "<matplotlib.axes._subplots.AxesSubplot at 0x1b906ec3b48>"
      ]
     },
     "execution_count": 29,
     "metadata": {},
     "output_type": "execute_result"
    },
    {
     "data": {
      "image/png": "[encoded data removed]",
      "text/plain": [
       "<Figure size 720x360 with 1 Axes>"
      ]
     },
     "metadata": {
      "needs_background": "light"
     },
     "output_type": "display_data"
    }
   ],
   "source": [
    "june2k18[\"bikeid\"].value_counts().quantile(np.linspace(0.0, 1.0, num=21))\n",
    "june2k18[\"bikeid\"].value_counts().plot.box(figsize=(10,5), vert=False)"
   ]
  },
  {
   "cell_type": "code",
   "execution_count": 30,
   "metadata": {},
   "outputs": [
    {
     "data": {
      "text/plain": [
       "0.00       1.0\n",
       "0.05     191.0\n",
       "0.10     304.0\n",
       "0.15     448.5\n",
       "0.20     830.0\n",
       "0.25    1119.0\n",
       "0.30    1243.0\n",
       "0.35    1339.5\n",
       "0.40    1463.0\n",
       "0.45    1615.0\n",
       "0.50    1737.0\n",
       "0.55    1839.0\n",
       "0.60    1931.0\n",
       "0.65    2017.0\n",
       "0.70    2107.0\n",
       "0.75    2221.0\n",
       "0.80    2413.0\n",
       "0.85    2722.5\n",
       "0.90    3103.0\n",
       "0.95    3482.5\n",
       "1.00    5360.0\n",
       "Name: bikeid, dtype: float64"
      ]
     },
     "execution_count": 30,
     "metadata": {},
     "output_type": "execute_result"
    }
   ],
   "source": [
    "bikeidDF = pd.concat([df[\"bikeid\"] for df in all_data], ignore_index=True)\n",
    "usage_of_bikes = pd.DataFrame(bikeidDF.value_counts())\n",
    "usage_of_bikes.index.name = \"bikeid\"\n",
    "usage_of_bikes.columns=[\"number_of_trips\"]\n",
    "usage_of_bikes.to_csv(\"processed_data/usage_of_bikes_last_2_years.csv\")\n",
    "\n",
    "bikeidDF.value_counts().quantile(np.linspace(0.0, 1.0, num=21))"
   ]
  },
  {
   "cell_type": "markdown",
   "metadata": {},
   "source": [
    "95% rowerów była użyta 3482 lub mniej razy, ale są też rowery używane więcej niż 5000 razy"
   ]
  },
  {
   "cell_type": "code",
   "execution_count": 31,
   "metadata": {},
   "outputs": [
    {
     "data": {
      "text/plain": [
       "Text(0.5, 0, 'Liczba przejazdów')"
      ]
     },
     "execution_count": 31,
     "metadata": {},
     "output_type": "execute_result"
    },
    {
     "data": {
      "image/png": "[encoded data removed]",
      "text/plain": [
       "<Figure size 720x216 with 1 Axes>"
      ]
     },
     "metadata": {
      "needs_background": "light"
     },
     "output_type": "display_data"
    }
   ],
   "source": [
    "bikeidDF.value_counts().plot.box(figsize=(10,3), vert=False, title=\"Rozkład liczby przejazdów dla poszczególnych rowerów\")\n",
    "\n",
    "plt.xlabel(\"Liczba przejazdów\")"
   ]
  },
  {
   "cell_type": "code",
   "execution_count": 32,
   "metadata": {},
   "outputs": [],
   "source": [
    "Q1 = usage_of_bikes.number_of_trips.quantile(0.25)\n",
    "Q3 = usage_of_bikes.number_of_trips.quantile(0.75)\n",
    "IQR = Q3 - Q1"
   ]
  },
  {
   "cell_type": "code",
   "execution_count": 33,
   "metadata": {},
   "outputs": [
    {
     "data": {
      "text/html": [
       "<div>\n",
       "<style scoped>\n",
       "    .dataframe tbody tr th:only-of-type {\n",
       "        vertical-align: middle;\n",
       "    }\n",
       "\n",
       "    .dataframe tbody tr th {\n",
       "        vertical-align: top;\n",
       "    }\n",
       "\n",
       "    .dataframe thead th {\n",
       "        text-align: right;\n",
       "    }\n",
       "</style>\n",
       "<table border=\"1\" class=\"dataframe\">\n",
       "  <thead>\n",
       "    <tr style=\"text-align: right;\">\n",
       "      <th></th>\n",
       "      <th>number_of_trips</th>\n",
       "    </tr>\n",
       "    <tr>\n",
       "      <th>bikeid</th>\n",
       "      <th></th>\n",
       "    </tr>\n",
       "  </thead>\n",
       "  <tbody>\n",
       "    <tr>\n",
       "      <th>34187</th>\n",
       "      <td>5360</td>\n",
       "    </tr>\n",
       "    <tr>\n",
       "      <th>33877</th>\n",
       "      <td>5311</td>\n",
       "    </tr>\n",
       "    <tr>\n",
       "      <th>33800</th>\n",
       "      <td>5201</td>\n",
       "    </tr>\n",
       "    <tr>\n",
       "      <th>34000</th>\n",
       "      <td>5172</td>\n",
       "    </tr>\n",
       "    <tr>\n",
       "      <th>34088</th>\n",
       "      <td>5152</td>\n",
       "    </tr>\n",
       "    <tr>\n",
       "      <th>...</th>\n",
       "      <td>...</td>\n",
       "    </tr>\n",
       "    <tr>\n",
       "      <th>35378</th>\n",
       "      <td>3881</td>\n",
       "    </tr>\n",
       "    <tr>\n",
       "      <th>33796</th>\n",
       "      <td>3881</td>\n",
       "    </tr>\n",
       "    <tr>\n",
       "      <th>34299</th>\n",
       "      <td>3879</td>\n",
       "    </tr>\n",
       "    <tr>\n",
       "      <th>31235</th>\n",
       "      <td>3876</td>\n",
       "    </tr>\n",
       "    <tr>\n",
       "      <th>30322</th>\n",
       "      <td>3875</td>\n",
       "    </tr>\n",
       "  </tbody>\n",
       "</table>\n",
       "<p>608 rows × 1 columns</p>\n",
       "</div>"
      ],
      "text/plain": [
       "        number_of_trips\n",
       "bikeid                 \n",
       "34187              5360\n",
       "33877              5311\n",
       "33800              5201\n",
       "34000              5172\n",
       "34088              5152\n",
       "...                 ...\n",
       "35378              3881\n",
       "33796              3881\n",
       "34299              3879\n",
       "31235              3876\n",
       "30322              3875\n",
       "\n",
       "[608 rows x 1 columns]"
      ]
     },
     "execution_count": 33,
     "metadata": {},
     "output_type": "execute_result"
    }
   ],
   "source": [
    "outliers = usage_of_bikes[usage_of_bikes.number_of_trips > (Q3 + 1.5*IQR)]\n",
    "outliers"
   ]
  },
  {
   "cell_type": "markdown",
   "metadata": {},
   "source": [
    "## Goście a subskrybenci"
   ]
  },
  {
   "cell_type": "markdown",
   "metadata": {},
   "source": [
    "Sprawdzimy w którym miesiącu ostatniego roku było stosunkowo najwięcej klientów z biletem krótkookresowym. Być może w te miesiące warto zainwestować w reklamę i rozdawać kody promocyjne na karnety."
   ]
  },
  {
   "cell_type": "code",
   "execution_count": 42,
   "metadata": {},
   "outputs": [],
   "source": [
    "usertypeDF = pd.concat([pd.DataFrame({'usertype_count' : df.groupby([\"usertype\"]).size(),\n",
    "              'month' : df.groupby([\"usertype\"]).first()[\"starttime\"]}) for df in all_data[-12:]])"
   ]
  },
  {
   "cell_type": "code",
   "execution_count": 43,
   "metadata": {},
   "outputs": [],
   "source": [
    "usertypeDF.month = usertypeDF.month.astype('datetime64')\n",
    "usertypeDF.month = usertypeDF.month.apply(lambda datetime: datetime.month_name())"
   ]
  },
  {
   "cell_type": "code",
   "execution_count": 44,
   "metadata": {},
   "outputs": [
    {
     "data": {
      "text/html": [
       "<div>\n",
       "<style scoped>\n",
       "    .dataframe tbody tr th:only-of-type {\n",
       "        vertical-align: middle;\n",
       "    }\n",
       "\n",
       "    .dataframe tbody tr th {\n",
       "        vertical-align: top;\n",
       "    }\n",
       "\n",
       "    .dataframe thead th {\n",
       "        text-align: right;\n",
       "    }\n",
       "</style>\n",
       "<table border=\"1\" class=\"dataframe\">\n",
       "  <thead>\n",
       "    <tr style=\"text-align: right;\">\n",
       "      <th></th>\n",
       "      <th>usertype_count</th>\n",
       "      <th>month</th>\n",
       "    </tr>\n",
       "    <tr>\n",
       "      <th>usertype</th>\n",
       "      <th></th>\n",
       "      <th></th>\n",
       "    </tr>\n",
       "  </thead>\n",
       "  <tbody>\n",
       "    <tr>\n",
       "      <th>Customer</th>\n",
       "      <td>372844</td>\n",
       "      <td>June</td>\n",
       "    </tr>\n",
       "    <tr>\n",
       "      <th>Subscriber</th>\n",
       "      <td>1752526</td>\n",
       "      <td>June</td>\n",
       "    </tr>\n",
       "    <tr>\n",
       "      <th>Customer</th>\n",
       "      <td>378009</td>\n",
       "      <td>July</td>\n",
       "    </tr>\n",
       "    <tr>\n",
       "      <th>Subscriber</th>\n",
       "      <td>1803055</td>\n",
       "      <td>July</td>\n",
       "    </tr>\n",
       "    <tr>\n",
       "      <th>Customer</th>\n",
       "      <td>443865</td>\n",
       "      <td>August</td>\n",
       "    </tr>\n",
       "    <tr>\n",
       "      <th>Subscriber</th>\n",
       "      <td>1900359</td>\n",
       "      <td>August</td>\n",
       "    </tr>\n",
       "    <tr>\n",
       "      <th>Customer</th>\n",
       "      <td>434407</td>\n",
       "      <td>September</td>\n",
       "    </tr>\n",
       "    <tr>\n",
       "      <th>Subscriber</th>\n",
       "      <td>2010493</td>\n",
       "      <td>September</td>\n",
       "    </tr>\n",
       "    <tr>\n",
       "      <th>Customer</th>\n",
       "      <td>295753</td>\n",
       "      <td>October</td>\n",
       "    </tr>\n",
       "    <tr>\n",
       "      <th>Subscriber</th>\n",
       "      <td>1796820</td>\n",
       "      <td>October</td>\n",
       "    </tr>\n",
       "    <tr>\n",
       "      <th>Customer</th>\n",
       "      <td>152492</td>\n",
       "      <td>November</td>\n",
       "    </tr>\n",
       "    <tr>\n",
       "      <th>Subscriber</th>\n",
       "      <td>1326216</td>\n",
       "      <td>November</td>\n",
       "    </tr>\n",
       "    <tr>\n",
       "      <th>Customer</th>\n",
       "      <td>77625</td>\n",
       "      <td>December</td>\n",
       "    </tr>\n",
       "    <tr>\n",
       "      <th>Subscriber</th>\n",
       "      <td>877585</td>\n",
       "      <td>December</td>\n",
       "    </tr>\n",
       "    <tr>\n",
       "      <th>Customer</th>\n",
       "      <td>94777</td>\n",
       "      <td>January</td>\n",
       "    </tr>\n",
       "    <tr>\n",
       "      <th>Subscriber</th>\n",
       "      <td>1145819</td>\n",
       "      <td>January</td>\n",
       "    </tr>\n",
       "    <tr>\n",
       "      <th>Customer</th>\n",
       "      <td>91903</td>\n",
       "      <td>February</td>\n",
       "    </tr>\n",
       "    <tr>\n",
       "      <th>Subscriber</th>\n",
       "      <td>1054927</td>\n",
       "      <td>February</td>\n",
       "    </tr>\n",
       "    <tr>\n",
       "      <th>Customer</th>\n",
       "      <td>154389</td>\n",
       "      <td>March</td>\n",
       "    </tr>\n",
       "    <tr>\n",
       "      <th>Subscriber</th>\n",
       "      <td>914068</td>\n",
       "      <td>March</td>\n",
       "    </tr>\n",
       "    <tr>\n",
       "      <th>Customer</th>\n",
       "      <td>166267</td>\n",
       "      <td>April</td>\n",
       "    </tr>\n",
       "    <tr>\n",
       "      <th>Subscriber</th>\n",
       "      <td>516495</td>\n",
       "      <td>April</td>\n",
       "    </tr>\n",
       "    <tr>\n",
       "      <th>Customer</th>\n",
       "      <td>475831</td>\n",
       "      <td>May</td>\n",
       "    </tr>\n",
       "    <tr>\n",
       "      <th>Subscriber</th>\n",
       "      <td>1012059</td>\n",
       "      <td>May</td>\n",
       "    </tr>\n",
       "  </tbody>\n",
       "</table>\n",
       "</div>"
      ],
      "text/plain": [
       "            usertype_count      month\n",
       "usertype                             \n",
       "Customer            372844       June\n",
       "Subscriber         1752526       June\n",
       "Customer            378009       July\n",
       "Subscriber         1803055       July\n",
       "Customer            443865     August\n",
       "Subscriber         1900359     August\n",
       "Customer            434407  September\n",
       "Subscriber         2010493  September\n",
       "Customer            295753    October\n",
       "Subscriber         1796820    October\n",
       "Customer            152492   November\n",
       "Subscriber         1326216   November\n",
       "Customer             77625   December\n",
       "Subscriber          877585   December\n",
       "Customer             94777    January\n",
       "Subscriber         1145819    January\n",
       "Customer             91903   February\n",
       "Subscriber         1054927   February\n",
       "Customer            154389      March\n",
       "Subscriber          914068      March\n",
       "Customer            166267      April\n",
       "Subscriber          516495      April\n",
       "Customer            475831        May\n",
       "Subscriber         1012059        May"
      ]
     },
     "execution_count": 44,
     "metadata": {},
     "output_type": "execute_result"
    }
   ],
   "source": [
    "usertypeDF"
   ]
  },
  {
   "cell_type": "code",
   "execution_count": 45,
   "metadata": {},
   "outputs": [
    {
     "data": {
      "text/html": [
       "<div>\n",
       "<style scoped>\n",
       "    .dataframe tbody tr th:only-of-type {\n",
       "        vertical-align: middle;\n",
       "    }\n",
       "\n",
       "    .dataframe tbody tr th {\n",
       "        vertical-align: top;\n",
       "    }\n",
       "\n",
       "    .dataframe thead th {\n",
       "        text-align: right;\n",
       "    }\n",
       "</style>\n",
       "<table border=\"1\" class=\"dataframe\">\n",
       "  <thead>\n",
       "    <tr style=\"text-align: right;\">\n",
       "      <th></th>\n",
       "      <th>usertype_count</th>\n",
       "      <th>month</th>\n",
       "      <th>usertype_count_combined</th>\n",
       "      <th>group_in_month_ratio</th>\n",
       "    </tr>\n",
       "    <tr>\n",
       "      <th>usertype</th>\n",
       "      <th></th>\n",
       "      <th></th>\n",
       "      <th></th>\n",
       "      <th></th>\n",
       "    </tr>\n",
       "  </thead>\n",
       "  <tbody>\n",
       "    <tr>\n",
       "      <th>Customer</th>\n",
       "      <td>372844</td>\n",
       "      <td>June</td>\n",
       "      <td>2125370</td>\n",
       "      <td>0.175425</td>\n",
       "    </tr>\n",
       "    <tr>\n",
       "      <th>Subscriber</th>\n",
       "      <td>1752526</td>\n",
       "      <td>June</td>\n",
       "      <td>2125370</td>\n",
       "      <td>0.824575</td>\n",
       "    </tr>\n",
       "    <tr>\n",
       "      <th>Customer</th>\n",
       "      <td>378009</td>\n",
       "      <td>July</td>\n",
       "      <td>2181064</td>\n",
       "      <td>0.173314</td>\n",
       "    </tr>\n",
       "    <tr>\n",
       "      <th>Subscriber</th>\n",
       "      <td>1803055</td>\n",
       "      <td>July</td>\n",
       "      <td>2181064</td>\n",
       "      <td>0.826686</td>\n",
       "    </tr>\n",
       "    <tr>\n",
       "      <th>Customer</th>\n",
       "      <td>443865</td>\n",
       "      <td>August</td>\n",
       "      <td>2344224</td>\n",
       "      <td>0.189344</td>\n",
       "    </tr>\n",
       "    <tr>\n",
       "      <th>Subscriber</th>\n",
       "      <td>1900359</td>\n",
       "      <td>August</td>\n",
       "      <td>2344224</td>\n",
       "      <td>0.810656</td>\n",
       "    </tr>\n",
       "    <tr>\n",
       "      <th>Customer</th>\n",
       "      <td>434407</td>\n",
       "      <td>September</td>\n",
       "      <td>2444900</td>\n",
       "      <td>0.177679</td>\n",
       "    </tr>\n",
       "    <tr>\n",
       "      <th>Subscriber</th>\n",
       "      <td>2010493</td>\n",
       "      <td>September</td>\n",
       "      <td>2444900</td>\n",
       "      <td>0.822321</td>\n",
       "    </tr>\n",
       "    <tr>\n",
       "      <th>Customer</th>\n",
       "      <td>295753</td>\n",
       "      <td>October</td>\n",
       "      <td>2092573</td>\n",
       "      <td>0.141335</td>\n",
       "    </tr>\n",
       "    <tr>\n",
       "      <th>Subscriber</th>\n",
       "      <td>1796820</td>\n",
       "      <td>October</td>\n",
       "      <td>2092573</td>\n",
       "      <td>0.858665</td>\n",
       "    </tr>\n",
       "    <tr>\n",
       "      <th>Customer</th>\n",
       "      <td>152492</td>\n",
       "      <td>November</td>\n",
       "      <td>1478708</td>\n",
       "      <td>0.103125</td>\n",
       "    </tr>\n",
       "    <tr>\n",
       "      <th>Subscriber</th>\n",
       "      <td>1326216</td>\n",
       "      <td>November</td>\n",
       "      <td>1478708</td>\n",
       "      <td>0.896875</td>\n",
       "    </tr>\n",
       "    <tr>\n",
       "      <th>Customer</th>\n",
       "      <td>77625</td>\n",
       "      <td>December</td>\n",
       "      <td>955210</td>\n",
       "      <td>0.0812649</td>\n",
       "    </tr>\n",
       "    <tr>\n",
       "      <th>Subscriber</th>\n",
       "      <td>877585</td>\n",
       "      <td>December</td>\n",
       "      <td>955210</td>\n",
       "      <td>0.918735</td>\n",
       "    </tr>\n",
       "    <tr>\n",
       "      <th>Customer</th>\n",
       "      <td>94777</td>\n",
       "      <td>January</td>\n",
       "      <td>1240596</td>\n",
       "      <td>0.0763963</td>\n",
       "    </tr>\n",
       "    <tr>\n",
       "      <th>Subscriber</th>\n",
       "      <td>1145819</td>\n",
       "      <td>January</td>\n",
       "      <td>1240596</td>\n",
       "      <td>0.923604</td>\n",
       "    </tr>\n",
       "    <tr>\n",
       "      <th>Customer</th>\n",
       "      <td>91903</td>\n",
       "      <td>February</td>\n",
       "      <td>1146830</td>\n",
       "      <td>0.0801366</td>\n",
       "    </tr>\n",
       "    <tr>\n",
       "      <th>Subscriber</th>\n",
       "      <td>1054927</td>\n",
       "      <td>February</td>\n",
       "      <td>1146830</td>\n",
       "      <td>0.919863</td>\n",
       "    </tr>\n",
       "    <tr>\n",
       "      <th>Customer</th>\n",
       "      <td>154389</td>\n",
       "      <td>March</td>\n",
       "      <td>1068457</td>\n",
       "      <td>0.144497</td>\n",
       "    </tr>\n",
       "    <tr>\n",
       "      <th>Subscriber</th>\n",
       "      <td>914068</td>\n",
       "      <td>March</td>\n",
       "      <td>1068457</td>\n",
       "      <td>0.855503</td>\n",
       "    </tr>\n",
       "    <tr>\n",
       "      <th>Customer</th>\n",
       "      <td>166267</td>\n",
       "      <td>April</td>\n",
       "      <td>682762</td>\n",
       "      <td>0.243521</td>\n",
       "    </tr>\n",
       "    <tr>\n",
       "      <th>Subscriber</th>\n",
       "      <td>516495</td>\n",
       "      <td>April</td>\n",
       "      <td>682762</td>\n",
       "      <td>0.756479</td>\n",
       "    </tr>\n",
       "    <tr>\n",
       "      <th>Customer</th>\n",
       "      <td>475831</td>\n",
       "      <td>May</td>\n",
       "      <td>1487890</td>\n",
       "      <td>0.319803</td>\n",
       "    </tr>\n",
       "    <tr>\n",
       "      <th>Subscriber</th>\n",
       "      <td>1012059</td>\n",
       "      <td>May</td>\n",
       "      <td>1487890</td>\n",
       "      <td>0.680197</td>\n",
       "    </tr>\n",
       "  </tbody>\n",
       "</table>\n",
       "</div>"
      ],
      "text/plain": [
       "            usertype_count      month  usertype_count_combined  \\\n",
       "usertype                                                         \n",
       "Customer            372844       June                  2125370   \n",
       "Subscriber         1752526       June                  2125370   \n",
       "Customer            378009       July                  2181064   \n",
       "Subscriber         1803055       July                  2181064   \n",
       "Customer            443865     August                  2344224   \n",
       "Subscriber         1900359     August                  2344224   \n",
       "Customer            434407  September                  2444900   \n",
       "Subscriber         2010493  September                  2444900   \n",
       "Customer            295753    October                  2092573   \n",
       "Subscriber         1796820    October                  2092573   \n",
       "Customer            152492   November                  1478708   \n",
       "Subscriber         1326216   November                  1478708   \n",
       "Customer             77625   December                   955210   \n",
       "Subscriber          877585   December                   955210   \n",
       "Customer             94777    January                  1240596   \n",
       "Subscriber         1145819    January                  1240596   \n",
       "Customer             91903   February                  1146830   \n",
       "Subscriber         1054927   February                  1146830   \n",
       "Customer            154389      March                  1068457   \n",
       "Subscriber          914068      March                  1068457   \n",
       "Customer            166267      April                   682762   \n",
       "Subscriber          516495      April                   682762   \n",
       "Customer            475831        May                  1487890   \n",
       "Subscriber         1012059        May                  1487890   \n",
       "\n",
       "           group_in_month_ratio  \n",
       "usertype                         \n",
       "Customer               0.175425  \n",
       "Subscriber             0.824575  \n",
       "Customer               0.173314  \n",
       "Subscriber             0.826686  \n",
       "Customer               0.189344  \n",
       "Subscriber             0.810656  \n",
       "Customer               0.177679  \n",
       "Subscriber             0.822321  \n",
       "Customer               0.141335  \n",
       "Subscriber             0.858665  \n",
       "Customer               0.103125  \n",
       "Subscriber             0.896875  \n",
       "Customer              0.0812649  \n",
       "Subscriber             0.918735  \n",
       "Customer              0.0763963  \n",
       "Subscriber             0.923604  \n",
       "Customer              0.0801366  \n",
       "Subscriber             0.919863  \n",
       "Customer               0.144497  \n",
       "Subscriber             0.855503  \n",
       "Customer               0.243521  \n",
       "Subscriber             0.756479  \n",
       "Customer               0.319803  \n",
       "Subscriber             0.680197  "
      ]
     },
     "execution_count": 45,
     "metadata": {},
     "output_type": "execute_result"
    }
   ],
   "source": [
    "usertypeDF = usertypeDF.merge(usertypeDF.groupby(['month']).sum(), on=['month'], suffixes=('', '_combined'), right_index=True)\n",
    "usertypeDF['group_in_month_ratio'] = usertypeDF.loc[:].values[:,0]/usertypeDF.loc[:].values[:,2]\n",
    "usertypeDF"
   ]
  },
  {
   "cell_type": "code",
   "execution_count": 46,
   "metadata": {},
   "outputs": [],
   "source": [
    "usertypeDF.to_csv(\"processed_data/ratio_of_subscribers_last_year.csv\")"
   ]
  },
  {
   "cell_type": "code",
   "execution_count": 47,
   "metadata": {},
   "outputs": [
    {
     "data": {
      "text/plain": [
       "<matplotlib.legend.Legend at 0x1b8f4bee888>"
      ]
     },
     "execution_count": 47,
     "metadata": {},
     "output_type": "execute_result"
    },
    {
     "data": {
      "image/png": "[encoded data removed]",
      "text/plain": [
       "<Figure size 648x432 with 1 Axes>"
      ]
     },
     "metadata": {
      "needs_background": "light"
     },
     "output_type": "display_data"
    }
   ],
   "source": [
    "usertypeDF['ones'] = usertypeDF['usertype_count_combined']/usertypeDF['usertype_count_combined']\n",
    "\n",
    "ax = usertypeDF.loc['Subscriber'].plot(kind='barh', x = 'month', y='ones', color ='orange')\n",
    "usertypeDF.loc['Subscriber'].sort_values(['group_in_month_ratio'], ascending=False).plot(kind='barh', x = 'month', y='group_in_month_ratio',\n",
    "                                                               ax = ax, figsize=(9,6), title='Proporcje przejazdów subskrybentów do klientów z biletem krótkookresowym').legend(loc='lower center', labels=('Customers', 'Subscribers'))\n"
   ]
  },
  {
   "cell_type": "markdown",
   "metadata": {},
   "source": [
    "## Stacje przy których jest najwięcej customerów"
   ]
  },
  {
   "cell_type": "markdown",
   "metadata": {},
   "source": [
    "Wyszukamy stancje przy których najczęściej wypożyczali użytkownicy z bieltem krótkookresowym, czyli gdzie można znaleźć potencjalnych "
   ]
  },
  {
   "cell_type": "code",
   "execution_count": 48,
   "metadata": {},
   "outputs": [],
   "source": [
    "places_attended_by_customers = pd.concat([df[['start station id', 'start station name']][df['usertype'] == 'Customer'] for df in all_data])"
   ]
  },
  {
   "cell_type": "code",
   "execution_count": 49,
   "metadata": {},
   "outputs": [
    {
     "data": {
      "text/plain": [
       "2006.0    75156\n",
       "281.0     62366\n",
       "3282.0    55971\n",
       "514.0     53992\n",
       "387.0     51678\n",
       "          ...  \n",
       "3488.0        1\n",
       "3912.0        1\n",
       "3947.0        1\n",
       "3941.0        1\n",
       "3957.0        1\n",
       "Name: start station id, Length: 1015, dtype: int64"
      ]
     },
     "execution_count": 49,
     "metadata": {},
     "output_type": "execute_result"
    }
   ],
   "source": [
    "places_attended_by_customers['start station id'].value_counts()"
   ]
  },
  {
   "cell_type": "code",
   "execution_count": 50,
   "metadata": {},
   "outputs": [
    {
     "data": {
      "text/plain": [
       "Text(0.5, 0, 'Liczba wypożyczeń w danym punkcie przez użytkowników z biletem krótkookresowym')"
      ]
     },
     "execution_count": 50,
     "metadata": {},
     "output_type": "execute_result"
    },
    {
     "data": {
      "image/png": "[encoded data removed]",
      "text/plain": [
       "<Figure size 720x288 with 1 Axes>"
      ]
     },
     "metadata": {
      "needs_background": "light"
     },
     "output_type": "display_data"
    }
   ],
   "source": [
    "attendance_of_customers = places_attended_by_customers['start station name'].value_counts()\n",
    "attendance_of_customers.T.plot.box(figsize=(10,4), vert=False)\n",
    "plt.xlabel(\"Liczba wypożyczeń w danym punkcie przez użytkowników z biletem krótkookresowym\")"
   ]
  },
  {
   "cell_type": "code",
   "execution_count": 51,
   "metadata": {},
   "outputs": [],
   "source": [
    "df = pd.DataFrame({'start station name' : attendance_of_customers.index, 'number_of_customers': attendance_of_customers.values})"
   ]
  },
  {
   "cell_type": "code",
   "execution_count": 52,
   "metadata": {},
   "outputs": [],
   "source": [
    "df.to_csv(\"processed_data/places_attended_by_customers.csv\")"
   ]
  },
  {
   "cell_type": "code",
   "execution_count": 53,
   "metadata": {},
   "outputs": [],
   "source": [
    "Q1 = df.number_of_customers.quantile(0.25)\n",
    "Q3 = df.number_of_customers.quantile(0.75)\n",
    "IQR = Q3-Q1\n",
    "\n",
    "outliers = df[df.number_of_customers > Q3+1.5*IQR]"
   ]
  },
  {
   "cell_type": "code",
   "execution_count": 54,
   "metadata": {},
   "outputs": [
    {
     "data": {
      "text/html": [
       "<div>\n",
       "<style scoped>\n",
       "    .dataframe tbody tr th:only-of-type {\n",
       "        vertical-align: middle;\n",
       "    }\n",
       "\n",
       "    .dataframe tbody tr th {\n",
       "        vertical-align: top;\n",
       "    }\n",
       "\n",
       "    .dataframe thead th {\n",
       "        text-align: right;\n",
       "    }\n",
       "</style>\n",
       "<table border=\"1\" class=\"dataframe\">\n",
       "  <thead>\n",
       "    <tr style=\"text-align: right;\">\n",
       "      <th></th>\n",
       "      <th>start station name</th>\n",
       "      <th>number_of_customers</th>\n",
       "    </tr>\n",
       "  </thead>\n",
       "  <tbody>\n",
       "    <tr>\n",
       "      <th>0</th>\n",
       "      <td>Central Park S &amp; 6 Ave</td>\n",
       "      <td>75156</td>\n",
       "    </tr>\n",
       "    <tr>\n",
       "      <th>1</th>\n",
       "      <td>Grand Army Plaza &amp; Central Park S</td>\n",
       "      <td>62366</td>\n",
       "    </tr>\n",
       "    <tr>\n",
       "      <th>2</th>\n",
       "      <td>5 Ave &amp; E 88 St</td>\n",
       "      <td>55971</td>\n",
       "    </tr>\n",
       "    <tr>\n",
       "      <th>3</th>\n",
       "      <td>12 Ave &amp; W 40 St</td>\n",
       "      <td>53992</td>\n",
       "    </tr>\n",
       "    <tr>\n",
       "      <th>4</th>\n",
       "      <td>Centre St &amp; Chambers St</td>\n",
       "      <td>51678</td>\n",
       "    </tr>\n",
       "    <tr>\n",
       "      <th>...</th>\n",
       "      <td>...</td>\n",
       "      <td>...</td>\n",
       "    </tr>\n",
       "    <tr>\n",
       "      <th>64</th>\n",
       "      <td>Broadway &amp; W 29 St</td>\n",
       "      <td>15017</td>\n",
       "    </tr>\n",
       "    <tr>\n",
       "      <th>65</th>\n",
       "      <td>11 Ave &amp; W 41 St</td>\n",
       "      <td>14968</td>\n",
       "    </tr>\n",
       "    <tr>\n",
       "      <th>66</th>\n",
       "      <td>W 33 St &amp; 7 Ave</td>\n",
       "      <td>14964</td>\n",
       "    </tr>\n",
       "    <tr>\n",
       "      <th>67</th>\n",
       "      <td>Allen St &amp; Stanton St</td>\n",
       "      <td>14726</td>\n",
       "    </tr>\n",
       "    <tr>\n",
       "      <th>68</th>\n",
       "      <td>Atlantic Ave &amp; Furman St</td>\n",
       "      <td>14576</td>\n",
       "    </tr>\n",
       "  </tbody>\n",
       "</table>\n",
       "<p>69 rows × 2 columns</p>\n",
       "</div>"
      ],
      "text/plain": [
       "                   start station name  number_of_customers\n",
       "0              Central Park S & 6 Ave                75156\n",
       "1   Grand Army Plaza & Central Park S                62366\n",
       "2                     5 Ave & E 88 St                55971\n",
       "3                    12 Ave & W 40 St                53992\n",
       "4             Centre St & Chambers St                51678\n",
       "..                                ...                  ...\n",
       "64                 Broadway & W 29 St                15017\n",
       "65                   11 Ave & W 41 St                14968\n",
       "66                    W 33 St & 7 Ave                14964\n",
       "67              Allen St & Stanton St                14726\n",
       "68           Atlantic Ave & Furman St                14576\n",
       "\n",
       "[69 rows x 2 columns]"
      ]
     },
     "execution_count": 54,
     "metadata": {},
     "output_type": "execute_result"
    }
   ],
   "source": [
    "outliers"
   ]
  },
  {
   "cell_type": "code",
   "execution_count": null,
   "metadata": {},
   "outputs": [],
   "source": []
  }
 ],
 "metadata": {
  "kernelspec": {
   "display_name": "Python 3.7 (tensorflow)",
   "language": "python",
   "name": "tensorflow"
  },
  "language_info": {
   "codemirror_mode": {
    "name": "ipython",
    "version": 3
   },
   "file_extension": ".py",
   "mimetype": "text/x-python",
   "name": "python",
   "nbconvert_exporter": "python",
   "pygments_lexer": "ipython3",
   "version": "3.7.6"
  }
 },
 "nbformat": 4,
 "nbformat_minor": 4
}
